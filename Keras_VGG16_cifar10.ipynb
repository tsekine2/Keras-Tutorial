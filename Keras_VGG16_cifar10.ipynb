{
  "nbformat": 4,
  "nbformat_minor": 0,
  "metadata": {
    "colab": {
      "name": "Keras-VGG16-cifar10.ipynb",
      "provenance": [],
      "collapsed_sections": [],
      "mount_file_id": "1YtzyO3-FPM_uYGxfo7FszFoANSSGbpS_",
      "authorship_tag": "ABX9TyP8cqX/Ky8dZX0TrielRetX",
      "include_colab_link": true
    },
    "kernelspec": {
      "name": "python3",
      "display_name": "Python 3"
    },
    "accelerator": "GPU"
  },
  "cells": [
    {
      "cell_type": "markdown",
      "metadata": {
        "id": "view-in-github",
        "colab_type": "text"
      },
      "source": [
        "<a href=\"https://colab.research.google.com/github/tsekine2/Keras-Tutorial/blob/master/Keras_VGG16_cifar10.ipynb\" target=\"_parent\"><img src=\"https://colab.research.google.com/assets/colab-badge.svg\" alt=\"Open In Colab\"/></a>"
      ]
    },
    {
      "cell_type": "code",
      "metadata": {
        "id": "pVt7WquhBgRx",
        "colab_type": "code",
        "colab": {
          "base_uri": "https://localhost:8080/",
          "height": 78
        },
        "outputId": "5f6d56c2-509e-4aa7-a36e-28e805b6196b"
      },
      "source": [
        "'''インポート'''\n",
        "import numpy as np\n",
        "import sys\n",
        "%matplotlib inline\n",
        "import matplotlib.pyplot as plt\n",
        "import keras\n",
        "from keras.datasets import cifar10\n",
        "from keras.models import Sequential\n",
        "from keras.layers import Dense, Dropout, Activation, Flatten, BatchNormalization\n",
        "from keras.layers import Conv2D, MaxPooling2D\n",
        "from keras import backend as K"
      ],
      "execution_count": 4,
      "outputs": [
        {
          "output_type": "stream",
          "text": [
            "Using TensorFlow backend.\n"
          ],
          "name": "stderr"
        },
        {
          "output_type": "display_data",
          "data": {
            "text/html": [
              "<p style=\"color: red;\">\n",
              "The default version of TensorFlow in Colab will soon switch to TensorFlow 2.x.<br>\n",
              "We recommend you <a href=\"https://www.tensorflow.org/guide/migrate\" target=\"_blank\">upgrade</a> now \n",
              "or ensure your notebook will continue to use TensorFlow 1.x via the <code>%tensorflow_version 1.x</code> magic:\n",
              "<a href=\"https://colab.research.google.com/notebooks/tensorflow_version.ipynb\" target=\"_blank\">more info</a>.</p>\n"
            ],
            "text/plain": [
              "<IPython.core.display.HTML object>"
            ]
          },
          "metadata": {
            "tags": []
          }
        }
      ]
    },
    {
      "cell_type": "code",
      "metadata": {
        "id": "-iduxc5PGpCl",
        "colab_type": "code",
        "colab": {
          "base_uri": "https://localhost:8080/",
          "height": 116
        },
        "outputId": "5744067a-e8c5-406a-cae0-69ae04f58973"
      },
      "source": [
        "'''データセットの読み込み'''\n",
        "(x_train, y_train), (x_test, y_test) = cifar10.load_data()\n",
        "'''バッチサイズ、クラス数、エポック数の設定'''\n",
        "batch_size=64\n",
        "num_classes=10\n",
        "epochs=20\n",
        "'''one-hotベクトル化'''\n",
        "y_train = keras.utils.to_categorical(y_train, num_classes)\n",
        "y_test = keras.utils.to_categorical(y_test, num_classes)\n",
        "'''shape表示'''\n",
        "print(\"x_train : \", x_train.shape)\n",
        "print(\"y_train : \", y_train.shape)\n",
        "print(\"x_test : \", x_test.shape)\n",
        "print(\"y_test : \", y_test.shape)"
      ],
      "execution_count": 5,
      "outputs": [
        {
          "output_type": "stream",
          "text": [
            "Downloading data from https://www.cs.toronto.edu/~kriz/cifar-10-python.tar.gz\n",
            "170500096/170498071 [==============================] - 2s 0us/step\n",
            "x_train :  (50000, 32, 32, 3)\n",
            "y_train :  (50000, 10)\n",
            "x_test :  (10000, 32, 32, 3)\n",
            "y_test :  (10000, 10)\n"
          ],
          "name": "stdout"
        }
      ]
    },
    {
      "cell_type": "code",
      "metadata": {
        "id": "_DOO1Y5talYE",
        "colab_type": "code",
        "colab": {
          "base_uri": "https://localhost:8080/",
          "height": 1000
        },
        "outputId": "53641fbf-e326-4060-db9d-4225acf8c4fc"
      },
      "source": [
        "'''VGG16'''\n",
        "input_shape=x_train.shape[1:]\n",
        "model = Sequential()\n",
        "model.add(Conv2D(filters=64, kernel_size=(3,3), strides=(1,1), padding='same', input_shape=input_shape, name='block1_conv1'))\n",
        "model.add(BatchNormalization(name='bn1'))\n",
        "model.add(Activation('relu'))\n",
        "model.add(Conv2D(filters=64, kernel_size=(3,3), strides=(1,1), padding='same', name='block1_conv2'))\n",
        "model.add(BatchNormalization(name='bn2'))\n",
        "model.add(Activation('relu'))\n",
        "model.add(MaxPooling2D(pool_size=(2,2), strides=(2,2), padding='same', name='block1_pool'))\n",
        "model.add(Conv2D(filters=128, kernel_size=(3,3), strides=(1,1), padding='same', name='block2_conv1'))\n",
        "model.add(BatchNormalization(name='bn3'))\n",
        "model.add(Activation('relu'))\n",
        "model.add(Conv2D(filters=128, kernel_size=(3,3), strides=(1,1), padding='same', name='block2_conv2'))\n",
        "model.add(BatchNormalization(name='bn4'))\n",
        "model.add(Activation('relu'))\n",
        "model.add(MaxPooling2D(pool_size=(2,2), strides=(2,2), padding='same', name='block2_pool'))\n",
        "model.add(Conv2D(filters=256, kernel_size=(3,3), strides=(1,1), padding='same', name='block3_conv1'))\n",
        "model.add(BatchNormalization(name='bn5'))\n",
        "model.add(Activation('relu'))\n",
        "model.add(Conv2D(filters=256, kernel_size=(3,3), strides=(1,1), padding='same', name='block3_conv2'))\n",
        "model.add(BatchNormalization(name='bn6'))\n",
        "model.add(Activation('relu'))\n",
        "model.add(Conv2D(filters=256, kernel_size=(3,3), strides=(1,1), padding='same', name='block3_conv3'))\n",
        "model.add(BatchNormalization(name='bn7'))\n",
        "model.add(Activation('relu'))\n",
        "model.add(MaxPooling2D(pool_size=(2,2), strides=(2,2), padding='same', name='block3_pool'))\n",
        "model.add(Conv2D(filters=512, kernel_size=(3,3), strides=(1,1), padding='same', name='block4_conv1'))\n",
        "model.add(BatchNormalization(name='bn8'))\n",
        "model.add(Activation('relu'))\n",
        "model.add(Conv2D(filters=512, kernel_size=(3,3), strides=(1,1), padding='same', name='block4_conv2'))\n",
        "model.add(BatchNormalization(name='bn9'))\n",
        "model.add(Activation('relu'))\n",
        "model.add(Conv2D(filters=512, kernel_size=(3,3), strides=(1,1), padding='same', name='block4_conv3'))\n",
        "model.add(BatchNormalization(name='bn10'))\n",
        "model.add(Activation('relu'))\n",
        "model.add(MaxPooling2D(pool_size=(2,2), strides=(2,2), padding='same', name='block4_pool'))\n",
        "model.add(Conv2D(filters=512, kernel_size=(3,3), strides=(1,1), padding='same', name='block5_conv1'))\n",
        "model.add(BatchNormalization(name='bn11'))\n",
        "model.add(Activation('relu'))\n",
        "model.add(Conv2D(filters=512, kernel_size=(3,3), strides=(1,1), padding='same', name='block5_conv2'))\n",
        "model.add(BatchNormalization(name='bn12'))\n",
        "model.add(Activation('relu'))\n",
        "model.add(Conv2D(filters=512, kernel_size=(3,3), strides=(1,1), padding='same', name='block5_conv3'))\n",
        "model.add(BatchNormalization(name='bn13'))\n",
        "model.add(Activation('relu'))\n",
        "model.add(MaxPooling2D(pool_size=(2,2), strides=(2,2), padding='same', name='block5_pool'))\n",
        "model.add(Flatten(name='flatten'))\n",
        "model.add(Dense(units=4096, activation='relu', name='fc1'))\n",
        "model.add(Dense(units=4096, activation='relu', name='fc2'))\n",
        "model.add(Dense(units=num_classes, activation='softmax', name='predictions'))\n",
        "model.summary()"
      ],
      "execution_count": 6,
      "outputs": [
        {
          "output_type": "stream",
          "text": [
            "WARNING:tensorflow:From /usr/local/lib/python3.6/dist-packages/keras/backend/tensorflow_backend.py:66: The name tf.get_default_graph is deprecated. Please use tf.compat.v1.get_default_graph instead.\n",
            "\n",
            "WARNING:tensorflow:From /usr/local/lib/python3.6/dist-packages/keras/backend/tensorflow_backend.py:541: The name tf.placeholder is deprecated. Please use tf.compat.v1.placeholder instead.\n",
            "\n",
            "WARNING:tensorflow:From /usr/local/lib/python3.6/dist-packages/keras/backend/tensorflow_backend.py:4432: The name tf.random_uniform is deprecated. Please use tf.random.uniform instead.\n",
            "\n",
            "WARNING:tensorflow:From /usr/local/lib/python3.6/dist-packages/keras/backend/tensorflow_backend.py:190: The name tf.get_default_session is deprecated. Please use tf.compat.v1.get_default_session instead.\n",
            "\n",
            "WARNING:tensorflow:From /usr/local/lib/python3.6/dist-packages/keras/backend/tensorflow_backend.py:197: The name tf.ConfigProto is deprecated. Please use tf.compat.v1.ConfigProto instead.\n",
            "\n",
            "WARNING:tensorflow:From /usr/local/lib/python3.6/dist-packages/keras/backend/tensorflow_backend.py:203: The name tf.Session is deprecated. Please use tf.compat.v1.Session instead.\n",
            "\n",
            "WARNING:tensorflow:From /usr/local/lib/python3.6/dist-packages/keras/backend/tensorflow_backend.py:207: The name tf.global_variables is deprecated. Please use tf.compat.v1.global_variables instead.\n",
            "\n",
            "WARNING:tensorflow:From /usr/local/lib/python3.6/dist-packages/keras/backend/tensorflow_backend.py:216: The name tf.is_variable_initialized is deprecated. Please use tf.compat.v1.is_variable_initialized instead.\n",
            "\n",
            "WARNING:tensorflow:From /usr/local/lib/python3.6/dist-packages/keras/backend/tensorflow_backend.py:223: The name tf.variables_initializer is deprecated. Please use tf.compat.v1.variables_initializer instead.\n",
            "\n",
            "WARNING:tensorflow:From /usr/local/lib/python3.6/dist-packages/keras/backend/tensorflow_backend.py:2041: The name tf.nn.fused_batch_norm is deprecated. Please use tf.compat.v1.nn.fused_batch_norm instead.\n",
            "\n",
            "WARNING:tensorflow:From /usr/local/lib/python3.6/dist-packages/keras/backend/tensorflow_backend.py:148: The name tf.placeholder_with_default is deprecated. Please use tf.compat.v1.placeholder_with_default instead.\n",
            "\n",
            "WARNING:tensorflow:From /usr/local/lib/python3.6/dist-packages/keras/backend/tensorflow_backend.py:4267: The name tf.nn.max_pool is deprecated. Please use tf.nn.max_pool2d instead.\n",
            "\n",
            "Model: \"sequential_1\"\n",
            "_________________________________________________________________\n",
            "Layer (type)                 Output Shape              Param #   \n",
            "=================================================================\n",
            "block1_conv1 (Conv2D)        (None, 32, 32, 64)        1792      \n",
            "_________________________________________________________________\n",
            "bn1 (BatchNormalization)     (None, 32, 32, 64)        256       \n",
            "_________________________________________________________________\n",
            "activation_1 (Activation)    (None, 32, 32, 64)        0         \n",
            "_________________________________________________________________\n",
            "block1_conv2 (Conv2D)        (None, 32, 32, 64)        36928     \n",
            "_________________________________________________________________\n",
            "bn2 (BatchNormalization)     (None, 32, 32, 64)        256       \n",
            "_________________________________________________________________\n",
            "activation_2 (Activation)    (None, 32, 32, 64)        0         \n",
            "_________________________________________________________________\n",
            "block1_pool (MaxPooling2D)   (None, 16, 16, 64)        0         \n",
            "_________________________________________________________________\n",
            "block2_conv1 (Conv2D)        (None, 16, 16, 128)       73856     \n",
            "_________________________________________________________________\n",
            "bn3 (BatchNormalization)     (None, 16, 16, 128)       512       \n",
            "_________________________________________________________________\n",
            "activation_3 (Activation)    (None, 16, 16, 128)       0         \n",
            "_________________________________________________________________\n",
            "block2_conv2 (Conv2D)        (None, 16, 16, 128)       147584    \n",
            "_________________________________________________________________\n",
            "bn4 (BatchNormalization)     (None, 16, 16, 128)       512       \n",
            "_________________________________________________________________\n",
            "activation_4 (Activation)    (None, 16, 16, 128)       0         \n",
            "_________________________________________________________________\n",
            "block2_pool (MaxPooling2D)   (None, 8, 8, 128)         0         \n",
            "_________________________________________________________________\n",
            "block3_conv1 (Conv2D)        (None, 8, 8, 256)         295168    \n",
            "_________________________________________________________________\n",
            "bn5 (BatchNormalization)     (None, 8, 8, 256)         1024      \n",
            "_________________________________________________________________\n",
            "activation_5 (Activation)    (None, 8, 8, 256)         0         \n",
            "_________________________________________________________________\n",
            "block3_conv2 (Conv2D)        (None, 8, 8, 256)         590080    \n",
            "_________________________________________________________________\n",
            "bn6 (BatchNormalization)     (None, 8, 8, 256)         1024      \n",
            "_________________________________________________________________\n",
            "activation_6 (Activation)    (None, 8, 8, 256)         0         \n",
            "_________________________________________________________________\n",
            "block3_conv3 (Conv2D)        (None, 8, 8, 256)         590080    \n",
            "_________________________________________________________________\n",
            "bn7 (BatchNormalization)     (None, 8, 8, 256)         1024      \n",
            "_________________________________________________________________\n",
            "activation_7 (Activation)    (None, 8, 8, 256)         0         \n",
            "_________________________________________________________________\n",
            "block3_pool (MaxPooling2D)   (None, 4, 4, 256)         0         \n",
            "_________________________________________________________________\n",
            "block4_conv1 (Conv2D)        (None, 4, 4, 512)         1180160   \n",
            "_________________________________________________________________\n",
            "bn8 (BatchNormalization)     (None, 4, 4, 512)         2048      \n",
            "_________________________________________________________________\n",
            "activation_8 (Activation)    (None, 4, 4, 512)         0         \n",
            "_________________________________________________________________\n",
            "block4_conv2 (Conv2D)        (None, 4, 4, 512)         2359808   \n",
            "_________________________________________________________________\n",
            "bn9 (BatchNormalization)     (None, 4, 4, 512)         2048      \n",
            "_________________________________________________________________\n",
            "activation_9 (Activation)    (None, 4, 4, 512)         0         \n",
            "_________________________________________________________________\n",
            "block4_conv3 (Conv2D)        (None, 4, 4, 512)         2359808   \n",
            "_________________________________________________________________\n",
            "bn10 (BatchNormalization)    (None, 4, 4, 512)         2048      \n",
            "_________________________________________________________________\n",
            "activation_10 (Activation)   (None, 4, 4, 512)         0         \n",
            "_________________________________________________________________\n",
            "block4_pool (MaxPooling2D)   (None, 2, 2, 512)         0         \n",
            "_________________________________________________________________\n",
            "block5_conv1 (Conv2D)        (None, 2, 2, 512)         2359808   \n",
            "_________________________________________________________________\n",
            "bn11 (BatchNormalization)    (None, 2, 2, 512)         2048      \n",
            "_________________________________________________________________\n",
            "activation_11 (Activation)   (None, 2, 2, 512)         0         \n",
            "_________________________________________________________________\n",
            "block5_conv2 (Conv2D)        (None, 2, 2, 512)         2359808   \n",
            "_________________________________________________________________\n",
            "bn12 (BatchNormalization)    (None, 2, 2, 512)         2048      \n",
            "_________________________________________________________________\n",
            "activation_12 (Activation)   (None, 2, 2, 512)         0         \n",
            "_________________________________________________________________\n",
            "block5_conv3 (Conv2D)        (None, 2, 2, 512)         2359808   \n",
            "_________________________________________________________________\n",
            "bn13 (BatchNormalization)    (None, 2, 2, 512)         2048      \n",
            "_________________________________________________________________\n",
            "activation_13 (Activation)   (None, 2, 2, 512)         0         \n",
            "_________________________________________________________________\n",
            "block5_pool (MaxPooling2D)   (None, 1, 1, 512)         0         \n",
            "_________________________________________________________________\n",
            "flatten (Flatten)            (None, 512)               0         \n",
            "_________________________________________________________________\n",
            "fc1 (Dense)                  (None, 4096)              2101248   \n",
            "_________________________________________________________________\n",
            "fc2 (Dense)                  (None, 4096)              16781312  \n",
            "_________________________________________________________________\n",
            "predictions (Dense)          (None, 10)                40970     \n",
            "=================================================================\n",
            "Total params: 33,655,114\n",
            "Trainable params: 33,646,666\n",
            "Non-trainable params: 8,448\n",
            "_________________________________________________________________\n"
          ],
          "name": "stdout"
        }
      ]
    },
    {
      "cell_type": "code",
      "metadata": {
        "id": "MbklZ3JeC4UY",
        "colab_type": "code",
        "colab": {
          "base_uri": "https://localhost:8080/",
          "height": 903
        },
        "outputId": "c67950d5-e2cd-47b8-8e01-667cfaca9123"
      },
      "source": [
        "'''optimizer定義'''\n",
        "optimizer=keras.optimizers.adam()\n",
        "model.compile(loss='categorical_crossentropy', optimizer=optimizer, metrics=['accuracy'])\n",
        "'''データ正規化'''\n",
        "x_train=x_train.astype('float32')\n",
        "x_train/=255\n",
        "x_test=x_test.astype('float32')\n",
        "x_test/=255\n",
        "'''fit'''\n",
        "history=model.fit(x_train, y_train, batch_size=batch_size, epochs=epochs, validation_data=(x_test, y_test))"
      ],
      "execution_count": 7,
      "outputs": [
        {
          "output_type": "stream",
          "text": [
            "WARNING:tensorflow:From /usr/local/lib/python3.6/dist-packages/keras/optimizers.py:793: The name tf.train.Optimizer is deprecated. Please use tf.compat.v1.train.Optimizer instead.\n",
            "\n",
            "WARNING:tensorflow:From /usr/local/lib/python3.6/dist-packages/keras/backend/tensorflow_backend.py:3576: The name tf.log is deprecated. Please use tf.math.log instead.\n",
            "\n",
            "WARNING:tensorflow:From /usr/local/lib/python3.6/dist-packages/tensorflow_core/python/ops/math_grad.py:1424: where (from tensorflow.python.ops.array_ops) is deprecated and will be removed in a future version.\n",
            "Instructions for updating:\n",
            "Use tf.where in 2.0, which has the same broadcast rule as np.where\n",
            "WARNING:tensorflow:From /usr/local/lib/python3.6/dist-packages/keras/backend/tensorflow_backend.py:1033: The name tf.assign_add is deprecated. Please use tf.compat.v1.assign_add instead.\n",
            "\n",
            "WARNING:tensorflow:From /usr/local/lib/python3.6/dist-packages/keras/backend/tensorflow_backend.py:1020: The name tf.assign is deprecated. Please use tf.compat.v1.assign instead.\n",
            "\n",
            "Train on 50000 samples, validate on 10000 samples\n",
            "Epoch 1/20\n",
            "50000/50000 [==============================] - 42s 849us/step - loss: 2.1699 - acc: 0.1591 - val_loss: 2.7100 - val_acc: 0.1319\n",
            "Epoch 2/20\n",
            "50000/50000 [==============================] - 33s 662us/step - loss: 1.6754 - acc: 0.3359 - val_loss: 1.9222 - val_acc: 0.3466\n",
            "Epoch 3/20\n",
            "50000/50000 [==============================] - 33s 666us/step - loss: 1.2925 - acc: 0.5181 - val_loss: 1.6019 - val_acc: 0.4707\n",
            "Epoch 4/20\n",
            "50000/50000 [==============================] - 33s 669us/step - loss: 1.0070 - acc: 0.6419 - val_loss: 1.5776 - val_acc: 0.5295\n",
            "Epoch 5/20\n",
            "50000/50000 [==============================] - 33s 661us/step - loss: 0.8200 - acc: 0.7197 - val_loss: 1.0380 - val_acc: 0.6598\n",
            "Epoch 6/20\n",
            "50000/50000 [==============================] - 33s 667us/step - loss: 0.6815 - acc: 0.7725 - val_loss: 1.1489 - val_acc: 0.6556\n",
            "Epoch 7/20\n",
            "50000/50000 [==============================] - 33s 661us/step - loss: 0.5833 - acc: 0.8079 - val_loss: 0.6422 - val_acc: 0.7836\n",
            "Epoch 8/20\n",
            "50000/50000 [==============================] - 33s 667us/step - loss: 0.4990 - acc: 0.8353 - val_loss: 0.8517 - val_acc: 0.7421\n",
            "Epoch 9/20\n",
            "50000/50000 [==============================] - 33s 662us/step - loss: 0.4320 - acc: 0.8584 - val_loss: 0.6216 - val_acc: 0.7978\n",
            "Epoch 10/20\n",
            "50000/50000 [==============================] - 33s 664us/step - loss: 0.3757 - acc: 0.8768 - val_loss: 0.6047 - val_acc: 0.8095\n",
            "Epoch 11/20\n",
            "50000/50000 [==============================] - 33s 663us/step - loss: 0.3237 - acc: 0.8939 - val_loss: 0.7685 - val_acc: 0.7744\n",
            "Epoch 12/20\n",
            "50000/50000 [==============================] - 33s 664us/step - loss: 0.2701 - acc: 0.9120 - val_loss: 0.6324 - val_acc: 0.8091\n",
            "Epoch 13/20\n",
            "50000/50000 [==============================] - 33s 668us/step - loss: 0.2418 - acc: 0.9212 - val_loss: 0.7416 - val_acc: 0.7908\n",
            "Epoch 14/20\n",
            "50000/50000 [==============================] - 33s 662us/step - loss: 0.2072 - acc: 0.9321 - val_loss: 0.6675 - val_acc: 0.8123\n",
            "Epoch 15/20\n",
            "50000/50000 [==============================] - 33s 665us/step - loss: 0.1740 - acc: 0.9421 - val_loss: 0.6594 - val_acc: 0.8158\n",
            "Epoch 16/20\n",
            "50000/50000 [==============================] - 33s 661us/step - loss: 0.1514 - acc: 0.9509 - val_loss: 0.6563 - val_acc: 0.8243\n",
            "Epoch 17/20\n",
            "50000/50000 [==============================] - 33s 665us/step - loss: 0.1361 - acc: 0.9569 - val_loss: 0.7174 - val_acc: 0.8200\n",
            "Epoch 18/20\n",
            "50000/50000 [==============================] - 33s 661us/step - loss: 0.1178 - acc: 0.9629 - val_loss: 0.6840 - val_acc: 0.8273\n",
            "Epoch 19/20\n",
            "50000/50000 [==============================] - 33s 664us/step - loss: 0.1088 - acc: 0.9650 - val_loss: 0.8861 - val_acc: 0.7892\n",
            "Epoch 20/20\n",
            "50000/50000 [==============================] - 33s 661us/step - loss: 0.0994 - acc: 0.9678 - val_loss: 0.9703 - val_acc: 0.7818\n"
          ],
          "name": "stdout"
        }
      ]
    },
    {
      "cell_type": "code",
      "metadata": {
        "id": "iVUTeNRtPTlp",
        "colab_type": "code",
        "colab": {
          "base_uri": "https://localhost:8080/",
          "height": 904
        },
        "outputId": "9be9592a-df27-4733-b2aa-b25f05bf9738"
      },
      "source": [
        "'''結果の可視化'''\n",
        "plt.figure(figsize=(10,7))\n",
        "plt.plot(history.history['acc'], color='b', linewidth=3)\n",
        "plt.plot(history.history['val_acc'], color='r', linewidth=3)\n",
        "plt.tick_params(labelsize=18)\n",
        "plt.ylabel('acuuracy', fontsize=20)\n",
        "plt.xlabel('epoch', fontsize=20)\n",
        "plt.legend(['training', 'test'], loc='best', fontsize=20)\n",
        "plt.figure(figsize=(10,7))\n",
        "plt.plot(history.history['loss'], color='b', linewidth=3)\n",
        "plt.plot(history.history['val_loss'], color='r', linewidth=3)\n",
        "plt.tick_params(labelsize=18)\n",
        "plt.ylabel('loss', fontsize=20)\n",
        "plt.xlabel('epoch', fontsize=20)\n",
        "plt.legend(['training', 'test'], loc='best', fontsize=20)\n",
        "plt.show()"
      ],
      "execution_count": 16,
      "outputs": [
        {
          "output_type": "display_data",
          "data": {
            "image/png": "[encoded data removed]",
            "text/plain": [
              "<Figure size 720x504 with 1 Axes>"
            ]
          },
          "metadata": {
            "tags": []
          }
        },
        {
          "output_type": "display_data",
          "data": {
            "image/png": "[encoded data removed]",
            "text/plain": [
              "<Figure size 720x504 with 1 Axes>"
            ]
          },
          "metadata": {
            "tags": []
          }
        }
      ]
    },
    {
      "cell_type": "code",
      "metadata": {
        "id": "_YGt7LFy8QoB",
        "colab_type": "code",
        "colab": {}
      },
      "source": [
        "'''データ保存'''\n",
        "model.save('cifar10-CNN.h5')\n",
        "model.save_weights('cifar10-CNN-weights.h5')"
      ],
      "execution_count": 0,
      "outputs": []
    },
    {
      "cell_type": "code",
      "metadata": {
        "id": "2eOOjcMisqVY",
        "colab_type": "code",
        "colab": {}
      },
      "source": [
        ""
      ],
      "execution_count": 0,
      "outputs": []
    }
  ]
}